{
  "nbformat": 4,
  "nbformat_minor": 0,
  "metadata": {
    "colab": {
      "provenance": [],
      "collapsed_sections": []
    },
    "kernelspec": {
      "display_name": "Python 3",
      "name": "python3"
    },
    "language_info": {
      "name": "python"
    }
  },
  "cells": [
    {
      "cell_type": "code",
      "metadata": {
        "id": "cQvvNxrEU3uL"
      },
      "source": [
        "import os\n",
        "import numpy as np\n",
        "import matplotlib.pyplot as plt\n",
        "import pandas as pd\n",
        "from scipy.spatial import KDTree"
      ],
      "execution_count": null,
      "outputs": []
    },
    {
      "cell_type": "code",
      "metadata": {
        "cellView": "form",
        "colab": {
          "base_uri": "https://localhost:8080/"
        },
        "id": "cu7OwsrmUDEA",
        "outputId": "e770a1b5-5556-4765-9d3a-3a3058be4c8c"
      },
      "source": [
        "#@title Download and extract the dataset\n",
        "! gdown --id 1BRp3cm_IZ0IJsBP-kvBh43qQGOilehQ1\n",
        "! unzip -q HCP-Gambling.zip\n",
        "% cd content/hcp\n",
        "regions = np.load('/content/content/hcp/regions.npy')"
      ],
      "execution_count": null,
      "outputs": [
        {
          "output_type": "stream",
          "text": [
            "Downloading...\n",
            "From: https://drive.google.com/uc?id=1BRp3cm_IZ0IJsBP-kvBh43qQGOilehQ1\n",
            "To: /content/HCP-Gambling.zip\n",
            "183MB [00:01, 111MB/s] \n",
            "/content/content/hcp\n"
          ],
          "name": "stdout"
        }
      ]
    },
    {
      "cell_type": "code",
      "metadata": {
        "id": "l4c9sAoxAM9R"
      },
      "source": [
        "def load_single_timeseries(subject , run, experiment=\"GAMBLING\" , remove_mean=True):\n",
        "  \"\"\"Load timeseries data for a single subject and single run.\n",
        "  \n",
        "  Args:\n",
        "    subject (int):      0-based subject ID to load\n",
        "    experiment (str):   Name of experiment \n",
        "    run (int):          0-based run index, across all tasks\n",
        "    remove_mean (bool): If True, subtract the parcel-wise mean (typically the mean BOLD signal is not of interest)\n",
        "\n",
        "  Returns\n",
        "    ts (n_parcel x n_timepoint array): Array of BOLD data values\n",
        "\n",
        "  \"\"\"\n",
        "\n",
        "  bold_path = f\"./subjects/{subject}/timeseries\"\n",
        "  bold_file = f\"bold{run}_Atlas_MSMAll_Glasser360Cortical.npy\"\n",
        "  ts = np.load(f\"{bold_path}/{bold_file}\")\n",
        "  if remove_mean:\n",
        "    ts -= ts.mean(axis=1, keepdims=True)\n",
        "  \n",
        "  return ts"
      ],
      "execution_count": null,
      "outputs": []
    },
    {
      "cell_type": "code",
      "metadata": {
        "colab": {
          "base_uri": "https://localhost:8080/",
          "height": 419
        },
        "id": "AEsKM5ra-bvQ",
        "outputId": "2d71100c-8699-44bc-9e4e-8ad387a40d05"
      },
      "source": [
        "# loading timeseries into dataframe with each row representing a participant and rows run_0 and run_1 \n",
        "# respectively corresponding to each run for the participant\n",
        "# we choose not to separate data for each brain region as it would have made for 700 something columns \n",
        "\n",
        "df = pd.DataFrame()\n",
        "\n",
        "for subject in range(339):\n",
        "  run_0 = load_single_timeseries(subject=subject, run= 11, remove_mean=True)\n",
        "  # run_1= load_single_timeseries(subject=12 , run= 12, remove_mean=True)\n",
        "  run_1= load_single_timeseries(subject=subject , run= 12, remove_mean=True)\n",
        "  df = df.append(pd.DataFrame([{'run_0': run_0, 'run_1':run_1}]), ignore_index=True)\n",
        "\n",
        "df"
      ],
      "execution_count": null,
      "outputs": [
        {
          "output_type": "execute_result",
          "data": {
            "text/html": [
              "<div>\n",
              "<style scoped>\n",
              "    .dataframe tbody tr th:only-of-type {\n",
              "        vertical-align: middle;\n",
              "    }\n",
              "\n",
              "    .dataframe tbody tr th {\n",
              "        vertical-align: top;\n",
              "    }\n",
              "\n",
              "    .dataframe thead th {\n",
              "        text-align: right;\n",
              "    }\n",
              "</style>\n",
              "<table border=\"1\" class=\"dataframe\">\n",
              "  <thead>\n",
              "    <tr style=\"text-align: right;\">\n",
              "      <th></th>\n",
              "      <th>run_0</th>\n",
              "      <th>run_1</th>\n",
              "    </tr>\n",
              "  </thead>\n",
              "  <tbody>\n",
              "    <tr>\n",
              "      <th>0</th>\n",
              "      <td>[[11.539920948616782, 13.939920948616418, -34....</td>\n",
              "      <td>[[-34.47193675889321, -107.37193675889284, -15...</td>\n",
              "    </tr>\n",
              "    <tr>\n",
              "      <th>1</th>\n",
              "      <td>[[-0.7131225296434422, -9.253122529644315, -3....</td>\n",
              "      <td>[[-39.62474308300625, -72.64474308300487, -61....</td>\n",
              "    </tr>\n",
              "    <tr>\n",
              "      <th>2</th>\n",
              "      <td>[[-61.846245059288776, -80.74624505928841, -92...</td>\n",
              "      <td>[[-13.730039525691609, -23.23003952569161, -50...</td>\n",
              "    </tr>\n",
              "    <tr>\n",
              "      <th>3</th>\n",
              "      <td>[[-15.198418972331638, -46.09841897233309, -53...</td>\n",
              "      <td>[[196.7031620553371, 182.7031620553371, 141.60...</td>\n",
              "    </tr>\n",
              "    <tr>\n",
              "      <th>4</th>\n",
              "      <td>[[505.7127667984205, 522.2127667984205, 597.41...</td>\n",
              "      <td>[[-642.6058102766801, -593.7058102766805, -116...</td>\n",
              "    </tr>\n",
              "    <tr>\n",
              "      <th>...</th>\n",
              "      <td>...</td>\n",
              "      <td>...</td>\n",
              "    </tr>\n",
              "    <tr>\n",
              "      <th>334</th>\n",
              "      <td>[[-10.596442687747185, 14.303557312252451, 20....</td>\n",
              "      <td>[[21.380632411066472, -57.019367588933164, -10...</td>\n",
              "    </tr>\n",
              "    <tr>\n",
              "      <th>335</th>\n",
              "      <td>[[-11.157312252962583, -25.957312252963675, -3...</td>\n",
              "      <td>[[39.58932806323901, 43.789328063239736, 18.58...</td>\n",
              "    </tr>\n",
              "    <tr>\n",
              "      <th>336</th>\n",
              "      <td>[[-15.475889328063204, -47.975889328063204, -7...</td>\n",
              "      <td>[[115.15138339921032, 50.15138339921032, 27.05...</td>\n",
              "    </tr>\n",
              "    <tr>\n",
              "      <th>337</th>\n",
              "      <td>[[-38.58339920948674, -117.08339920948674, -98...</td>\n",
              "      <td>[[34.316600790512894, -7.883399209487834, -53....</td>\n",
              "    </tr>\n",
              "    <tr>\n",
              "      <th>338</th>\n",
              "      <td>[[-6.333992094861969, -15.533992094862697, -52...</td>\n",
              "      <td>[[24.351383399209226, 22.851383399209226, -16....</td>\n",
              "    </tr>\n",
              "  </tbody>\n",
              "</table>\n",
              "<p>339 rows × 2 columns</p>\n",
              "</div>"
            ],
            "text/plain": [
              "                                                 run_0                                              run_1\n",
              "0    [[11.539920948616782, 13.939920948616418, -34....  [[-34.47193675889321, -107.37193675889284, -15...\n",
              "1    [[-0.7131225296434422, -9.253122529644315, -3....  [[-39.62474308300625, -72.64474308300487, -61....\n",
              "2    [[-61.846245059288776, -80.74624505928841, -92...  [[-13.730039525691609, -23.23003952569161, -50...\n",
              "3    [[-15.198418972331638, -46.09841897233309, -53...  [[196.7031620553371, 182.7031620553371, 141.60...\n",
              "4    [[505.7127667984205, 522.2127667984205, 597.41...  [[-642.6058102766801, -593.7058102766805, -116...\n",
              "..                                                 ...                                                ...\n",
              "334  [[-10.596442687747185, 14.303557312252451, 20....  [[21.380632411066472, -57.019367588933164, -10...\n",
              "335  [[-11.157312252962583, -25.957312252963675, -3...  [[39.58932806323901, 43.789328063239736, 18.58...\n",
              "336  [[-15.475889328063204, -47.975889328063204, -7...  [[115.15138339921032, 50.15138339921032, 27.05...\n",
              "337  [[-38.58339920948674, -117.08339920948674, -98...  [[34.316600790512894, -7.883399209487834, -53....\n",
              "338  [[-6.333992094861969, -15.533992094862697, -52...  [[24.351383399209226, 22.851383399209226, -16....\n",
              "\n",
              "[339 rows x 2 columns]"
            ]
          },
          "metadata": {
            "tags": []
          },
          "execution_count": 4
        }
      ]
    },
    {
      "cell_type": "code",
      "metadata": {
        "colab": {
          "base_uri": "https://localhost:8080/"
        },
        "id": "tb4dgRT90if5",
        "outputId": "c8fff4ff-8d83-4c52-c1cc-a17a479c9964"
      },
      "source": [
        "t_vec = np.arange(0,df.iloc[1][0][0].shape[0])*0.72\n",
        "t_vec"
      ],
      "execution_count": null,
      "outputs": [
        {
          "output_type": "execute_result",
          "data": {
            "text/plain": [
              "array([  0.  ,   0.72,   1.44,   2.16,   2.88,   3.6 ,   4.32,   5.04,\n",
              "         5.76,   6.48,   7.2 ,   7.92,   8.64,   9.36,  10.08,  10.8 ,\n",
              "        11.52,  12.24,  12.96,  13.68,  14.4 ,  15.12,  15.84,  16.56,\n",
              "        17.28,  18.  ,  18.72,  19.44,  20.16,  20.88,  21.6 ,  22.32,\n",
              "        23.04,  23.76,  24.48,  25.2 ,  25.92,  26.64,  27.36,  28.08,\n",
              "        28.8 ,  29.52,  30.24,  30.96,  31.68,  32.4 ,  33.12,  33.84,\n",
              "        34.56,  35.28,  36.  ,  36.72,  37.44,  38.16,  38.88,  39.6 ,\n",
              "        40.32,  41.04,  41.76,  42.48,  43.2 ,  43.92,  44.64,  45.36,\n",
              "        46.08,  46.8 ,  47.52,  48.24,  48.96,  49.68,  50.4 ,  51.12,\n",
              "        51.84,  52.56,  53.28,  54.  ,  54.72,  55.44,  56.16,  56.88,\n",
              "        57.6 ,  58.32,  59.04,  59.76,  60.48,  61.2 ,  61.92,  62.64,\n",
              "        63.36,  64.08,  64.8 ,  65.52,  66.24,  66.96,  67.68,  68.4 ,\n",
              "        69.12,  69.84,  70.56,  71.28,  72.  ,  72.72,  73.44,  74.16,\n",
              "        74.88,  75.6 ,  76.32,  77.04,  77.76,  78.48,  79.2 ,  79.92,\n",
              "        80.64,  81.36,  82.08,  82.8 ,  83.52,  84.24,  84.96,  85.68,\n",
              "        86.4 ,  87.12,  87.84,  88.56,  89.28,  90.  ,  90.72,  91.44,\n",
              "        92.16,  92.88,  93.6 ,  94.32,  95.04,  95.76,  96.48,  97.2 ,\n",
              "        97.92,  98.64,  99.36, 100.08, 100.8 , 101.52, 102.24, 102.96,\n",
              "       103.68, 104.4 , 105.12, 105.84, 106.56, 107.28, 108.  , 108.72,\n",
              "       109.44, 110.16, 110.88, 111.6 , 112.32, 113.04, 113.76, 114.48,\n",
              "       115.2 , 115.92, 116.64, 117.36, 118.08, 118.8 , 119.52, 120.24,\n",
              "       120.96, 121.68, 122.4 , 123.12, 123.84, 124.56, 125.28, 126.  ,\n",
              "       126.72, 127.44, 128.16, 128.88, 129.6 , 130.32, 131.04, 131.76,\n",
              "       132.48, 133.2 , 133.92, 134.64, 135.36, 136.08, 136.8 , 137.52,\n",
              "       138.24, 138.96, 139.68, 140.4 , 141.12, 141.84, 142.56, 143.28,\n",
              "       144.  , 144.72, 145.44, 146.16, 146.88, 147.6 , 148.32, 149.04,\n",
              "       149.76, 150.48, 151.2 , 151.92, 152.64, 153.36, 154.08, 154.8 ,\n",
              "       155.52, 156.24, 156.96, 157.68, 158.4 , 159.12, 159.84, 160.56,\n",
              "       161.28, 162.  , 162.72, 163.44, 164.16, 164.88, 165.6 , 166.32,\n",
              "       167.04, 167.76, 168.48, 169.2 , 169.92, 170.64, 171.36, 172.08,\n",
              "       172.8 , 173.52, 174.24, 174.96, 175.68, 176.4 , 177.12, 177.84,\n",
              "       178.56, 179.28, 180.  , 180.72, 181.44])"
            ]
          },
          "metadata": {
            "tags": []
          },
          "execution_count": 5
        }
      ]
    },
    {
      "cell_type": "code",
      "metadata": {
        "colab": {
          "base_uri": "https://localhost:8080/",
          "height": 265
        },
        "id": "GV2ULbbAUC7r",
        "outputId": "8ae92c2e-dcfd-4714-e2c9-9416c7a3ae91"
      },
      "source": [
        "# number of arrays in each column (run_0 or run_1) for each participant\n",
        "plt.plot(t_vec, df.iloc[1][0][0]);\n",
        " # histogram of time series for a region"
      ],
      "execution_count": null,
      "outputs": [
        {
          "output_type": "display_data",
          "data": {
            "image/png": "[encoded data removed]",
            "text/plain": [
              "<Figure size 432x288 with 1 Axes>"
            ]
          },
          "metadata": {
            "tags": [],
            "needs_background": "light"
          }
        }
      ]
    },
    {
      "cell_type": "code",
      "metadata": {
        "colab": {
          "base_uri": "https://localhost:8080/"
        },
        "id": "55HApGMh2HHJ",
        "outputId": "e90b1b7f-5ed3-423e-a02e-d6c097780146"
      },
      "source": [
        "[]\n",
        "#8.063 - 36.847: loss\n",
        "#51.952 - 80.749: win\n",
        "#95.855 - 124.611: loss\n",
        "#139.717 - 168.487: win"
      ],
      "execution_count": null,
      "outputs": [
        {
          "output_type": "execute_result",
          "data": {
            "text/plain": [
              "[]"
            ]
          },
          "metadata": {
            "tags": []
          },
          "execution_count": 7
        }
      ]
    },
    {
      "cell_type": "code",
      "metadata": {
        "id": "QMJ0h1dF9Iyt"
      },
      "source": [
        "win_loss_df = pd.DataFrame()\n",
        "\n",
        "for i in range(339):\n",
        "\n",
        "  part_row_df = pd.DataFrame()\n",
        "\n",
        "  for j in range(2):\n",
        "    dat = df.iloc[i][j]\n",
        "\n",
        "    #8.063 - 36.847: loss\n",
        "    #51.952 - 80.749: win\n",
        "    #95.855 - 124.611: loss\n",
        "    #139.717 - 168.487: win\n",
        "    kdt = KDTree(t_vec.reshape(-1,1))\n",
        "    _,los_ind1 =kdt.query(np.array([8.063])) \n",
        "    _,los_ind2 =kdt.query(np.array([36.847]))\n",
        "    _,win_ind1 =kdt.query(np.array([51.952]))  \n",
        "    _,win_ind2 =kdt.query(np.array([80.749]))\n",
        "\n",
        "    _,los_ind3 =kdt.query(np.array([95.855])) \n",
        "    _,los_ind4 =kdt.query(np.array([124.611])) \n",
        "    _,win_ind3 =kdt.query(np.array([139.717]))\n",
        "    _,win_ind4 =kdt.query(np.array([168.487]))  \n",
        "\n",
        "\n",
        "    los1_sig = np.zeros_like(dat[0,los_ind1:los_ind2]).reshape(1,-1)\n",
        "    los2_sig = np.zeros_like(dat[0,los_ind3:los_ind4]).reshape(1,-1)\n",
        "    win1_sig = np.zeros_like(dat[0,win_ind1:win_ind2]).reshape(1,-1)\n",
        "    win2_sig = np.zeros_like(dat[0,win_ind3:win_ind4]).reshape(1,-1)\n",
        "    for regi in range(360):\n",
        "      tmp_sig = dat[regi,:]\n",
        "      los_1 = tmp_sig[los_ind1:los_ind2].reshape(1,-1)\n",
        "      los_2 = tmp_sig[los_ind3:los_ind4].reshape(1,-1)\n",
        "      win_1 = tmp_sig[win_ind1:win_ind2].reshape(1,-1)\n",
        "      win_2 = tmp_sig[win_ind3:win_ind4].reshape(1,-1)\n",
        "\n",
        "      los1_sig = np.concatenate((los1_sig,los_1),axis=0)\n",
        "      los2_sig = np.concatenate((los2_sig,los_2),axis=0)\n",
        "      win1_sig = np.concatenate((win1_sig,win_1),axis=0)\n",
        "      win2_sig = np.concatenate((win2_sig,win_2),axis=0)\n",
        "\n",
        "    los1_sig = los1_sig[1:,:]\n",
        "    los2_sig = los2_sig[1:,:]\n",
        "    win1_sig = win1_sig[1:,:]\n",
        "    win2_sig = win2_sig[1:,:]\n",
        "\n",
        "    run_win_loss_df = pd.DataFrame([{\"los1\":los1_sig, \"los2\":los2_sig,\"win1\":win1_sig,\"win2\":win2_sig}])\n",
        "    part_row_df = pd.concat ([part_row_df, run_win_loss_df], axis=1)\n",
        "\n",
        "  win_loss_df = win_loss_df.append(part_row_df, ignore_index=True)\n"
      ],
      "execution_count": null,
      "outputs": []
    },
    {
      "cell_type": "code",
      "metadata": {
        "id": "X4JqqM-w7VfE"
      },
      "source": [
        "win_loss_df.columns = [\"r1_los1\", \"r1_los2\", \"r1_win1\", \"r1_win2\", \"r2_los1\", \"r2_los2\", \"r2_win1\", \"r2_win2\"]"
      ],
      "execution_count": null,
      "outputs": []
    },
    {
      "cell_type": "code",
      "metadata": {
        "colab": {
          "base_uri": "https://localhost:8080/",
          "height": 779
        },
        "id": "7njz-cVcqS6N",
        "outputId": "345a1dbf-aca1-4236-deb4-5bfe0a17055d"
      },
      "source": [
        "win_loss_df"
      ],
      "execution_count": null,
      "outputs": [
        {
          "output_type": "execute_result",
          "data": {
            "text/html": [
              "<div>\n",
              "<style scoped>\n",
              "    .dataframe tbody tr th:only-of-type {\n",
              "        vertical-align: middle;\n",
              "    }\n",
              "\n",
              "    .dataframe tbody tr th {\n",
              "        vertical-align: top;\n",
              "    }\n",
              "\n",
              "    .dataframe thead th {\n",
              "        text-align: right;\n",
              "    }\n",
              "</style>\n",
              "<table border=\"1\" class=\"dataframe\">\n",
              "  <thead>\n",
              "    <tr style=\"text-align: right;\">\n",
              "      <th></th>\n",
              "      <th>r1_los1</th>\n",
              "      <th>r1_los2</th>\n",
              "      <th>r1_win1</th>\n",
              "      <th>r1_win2</th>\n",
              "      <th>r2_los1</th>\n",
              "      <th>r2_los2</th>\n",
              "      <th>r2_win1</th>\n",
              "      <th>r2_win2</th>\n",
              "    </tr>\n",
              "  </thead>\n",
              "  <tbody>\n",
              "    <tr>\n",
              "      <th>0</th>\n",
              "      <td>[[-250.36007905138285, -214.2600790513825, -21...</td>\n",
              "      <td>[[-21.160079051383946, -22.360079051382854, -3...</td>\n",
              "      <td>[[-27.560079051383582, 2.7399209486175096, -32...</td>\n",
              "      <td>[[17.039920948616782, -18.660079051383946, -12...</td>\n",
              "      <td>[[-191.07193675889175, -228.77193675889248, -1...</td>\n",
              "      <td>[[-168.4719367588932, -93.47193675889321, -67....</td>\n",
              "      <td>[[-85.17193675889212, -98.87193675889284, -92....</td>\n",
              "      <td>[[-101.77193675889248, -125.47193675889321, -9...</td>\n",
              "    </tr>\n",
              "    <tr>\n",
              "      <th>1</th>\n",
              "      <td>[[-70.03312252964497, -68.14312252964373, -55....</td>\n",
              "      <td>[[28.21687747035503, 32.60687747035627, 24.036...</td>\n",
              "      <td>[[-36.97312252964366, -62.46312252964344, -79....</td>\n",
              "      <td>[[-2.103122529644679, 0.5568774703551753, -0.1...</td>\n",
              "      <td>[[-19.104743083005815, 0.3052569169940398, -60...</td>\n",
              "      <td>[[-45.77474308300589, -15.094743083005596, -24...</td>\n",
              "      <td>[[-30.174743083005524, 5.215256916993894, -13....</td>\n",
              "      <td>[[13.285256916993603, -37.40474308300509, -80....</td>\n",
              "    </tr>\n",
              "    <tr>\n",
              "      <th>2</th>\n",
              "      <td>[[-108.54624505928768, -135.04624505928768, -1...</td>\n",
              "      <td>[[-100.04624505928768, -113.94624505928732, -1...</td>\n",
              "      <td>[[-125.14624505928805, -146.14624505928805, -1...</td>\n",
              "      <td>[[-36.94624505928732, -44.64624505928805, -64....</td>\n",
              "      <td>[[-46.93003952569234, -76.83003952569197, -86....</td>\n",
              "      <td>[[-120.03003952569088, -129.83003952569197, -7...</td>\n",
              "      <td>[[-47.53003952569088, -29.430039525692337, -15...</td>\n",
              "      <td>[[-73.13003952569125, -106.53003952569088, -77...</td>\n",
              "    </tr>\n",
              "    <tr>\n",
              "      <th>3</th>\n",
              "      <td>[[-35.398418972332365, -37.09841897233309, -60...</td>\n",
              "      <td>[[-92.59841897233309, -49.49841897233273, -69....</td>\n",
              "      <td>[[-68.59841897233309, -77.39841897233237, -71....</td>\n",
              "      <td>[[-108.59841897233309, -134.0984189723331, -12...</td>\n",
              "      <td>[[78.30316205533745, 19.00316205533818, 1.6031...</td>\n",
              "      <td>[[-2.6968379446625477, -10.796837944662911, -4...</td>\n",
              "      <td>[[-3.096837944662184, 0.7031620553370885, -17....</td>\n",
              "      <td>[[-169.7968379446629, -163.99683794466182, -13...</td>\n",
              "    </tr>\n",
              "    <tr>\n",
              "      <th>4</th>\n",
              "      <td>[[249.11276679842013, 232.11276679842013, 256....</td>\n",
              "      <td>[[-101.48723320158024, -86.78723320157951, -10...</td>\n",
              "      <td>[[-128.7872332015795, -120.38723320157987, -12...</td>\n",
              "      <td>[[-102.38723320157987, -131.48723320158024, -1...</td>\n",
              "      <td>[[33.19418972331914, 157.19418972331914, 129.5...</td>\n",
              "      <td>[[106.39418972331987, -506.0058102766816, 63.4...</td>\n",
              "      <td>[[142.59418972331878, 195.9941897233184, 219.5...</td>\n",
              "      <td>[[13.994189723318414, 15.794189723319505, 63.9...</td>\n",
              "    </tr>\n",
              "    <tr>\n",
              "      <th>...</th>\n",
              "      <td>...</td>\n",
              "      <td>...</td>\n",
              "      <td>...</td>\n",
              "      <td>...</td>\n",
              "      <td>...</td>\n",
              "      <td>...</td>\n",
              "      <td>...</td>\n",
              "      <td>...</td>\n",
              "    </tr>\n",
              "    <tr>\n",
              "      <th>334</th>\n",
              "      <td>[[-73.09644268774719, -31.796442687747913, -16...</td>\n",
              "      <td>[[-64.79644268774791, -79.89644268774828, -32....</td>\n",
              "      <td>[[24.103557312251723, -23.096442687747185, -34...</td>\n",
              "      <td>[[-212.59644268774719, -210.89644268774828, -1...</td>\n",
              "      <td>[[27.380632411066472, 9.5806324110672, -9.6193...</td>\n",
              "      <td>[[64.78063241106611, -33.61936758893353, -10.9...</td>\n",
              "      <td>[[-44.11936758893353, -36.519367588933164, -63...</td>\n",
              "      <td>[[-124.9193675889328, -30.719367588933892, -11...</td>\n",
              "    </tr>\n",
              "    <tr>\n",
              "      <th>335</th>\n",
              "      <td>[[-112.25731225296295, -159.65731225296258, -1...</td>\n",
              "      <td>[[-23.35731225296331, -36.25731225296295, -58....</td>\n",
              "      <td>[[-14.557312252964039, -13.957312252963675, -1...</td>\n",
              "      <td>[[-76.45731225296367, -51.75731225296295, -62....</td>\n",
              "      <td>[[-42.6106719367599, -46.710671936760264, -44....</td>\n",
              "      <td>[[-92.41067193676099, -49.91067193676099, -80....</td>\n",
              "      <td>[[-13.510671936759536, -55.81067193676063, -19...</td>\n",
              "      <td>[[-28.710671936760264, -51.710671936760264, -8...</td>\n",
              "    </tr>\n",
              "    <tr>\n",
              "      <th>336</th>\n",
              "      <td>[[-71.7758893280643, -100.7758893280643, -113....</td>\n",
              "      <td>[[-82.2758893280643, -74.4758893280632, -76.47...</td>\n",
              "      <td>[[-92.67588932806393, -44.07588932806357, -108...</td>\n",
              "      <td>[[-33.37588932806466, -43.67588932806393, -76....</td>\n",
              "      <td>[[64.15138339921032, 52.05138339920995, -15.94...</td>\n",
              "      <td>[[-132.5486166007904, -163.44861660079005, -15...</td>\n",
              "      <td>[[-121.84861660078968, -127.44861660079005, -1...</td>\n",
              "      <td>[[-79.54861660079041, -54.74861660078932, -81....</td>\n",
              "    </tr>\n",
              "    <tr>\n",
              "      <th>337</th>\n",
              "      <td>[[-40.58339920948674, -76.88339920948602, -70....</td>\n",
              "      <td>[[-41.183399209487106, -25.083399209486743, -3...</td>\n",
              "      <td>[[-20.78339920948747, -59.883399209486015, -49...</td>\n",
              "      <td>[[-16.183399209487106, 0.3166007905128936, -14...</td>\n",
              "      <td>[[-52.183399209487106, -61.78339920948747, -67...</td>\n",
              "      <td>[[-40.28339920948747, -64.08339920948674, -43....</td>\n",
              "      <td>[[-70.9833992094882, -93.88339920948783, -84.8...</td>\n",
              "      <td>[[-5.983399209488198, -2.0833992094867426, -1....</td>\n",
              "    </tr>\n",
              "    <tr>\n",
              "      <th>338</th>\n",
              "      <td>[[-38.43399209486233, -39.93399209486233, -57....</td>\n",
              "      <td>[[-79.43399209486233, -49.93399209486233, -45....</td>\n",
              "      <td>[[-92.33399209486197, -62.13399209486124, -14....</td>\n",
              "      <td>[[-103.7339920948616, -34.43399209486233, -59....</td>\n",
              "      <td>[[-28.54861660079041, -48.148616600790774, 8.6...</td>\n",
              "      <td>[[10.751383399210681, -13.648616600790774, -36...</td>\n",
              "      <td>[[-71.74861660078932, -13.748616600789319, -34...</td>\n",
              "      <td>[[-96.04861660079041, -77.34861660078968, -81....</td>\n",
              "    </tr>\n",
              "  </tbody>\n",
              "</table>\n",
              "<p>339 rows × 8 columns</p>\n",
              "</div>"
            ],
            "text/plain": [
              "                                               r1_los1  ...                                            r2_win2\n",
              "0    [[-250.36007905138285, -214.2600790513825, -21...  ...  [[-101.77193675889248, -125.47193675889321, -9...\n",
              "1    [[-70.03312252964497, -68.14312252964373, -55....  ...  [[13.285256916993603, -37.40474308300509, -80....\n",
              "2    [[-108.54624505928768, -135.04624505928768, -1...  ...  [[-73.13003952569125, -106.53003952569088, -77...\n",
              "3    [[-35.398418972332365, -37.09841897233309, -60...  ...  [[-169.7968379446629, -163.99683794466182, -13...\n",
              "4    [[249.11276679842013, 232.11276679842013, 256....  ...  [[13.994189723318414, 15.794189723319505, 63.9...\n",
              "..                                                 ...  ...                                                ...\n",
              "334  [[-73.09644268774719, -31.796442687747913, -16...  ...  [[-124.9193675889328, -30.719367588933892, -11...\n",
              "335  [[-112.25731225296295, -159.65731225296258, -1...  ...  [[-28.710671936760264, -51.710671936760264, -8...\n",
              "336  [[-71.7758893280643, -100.7758893280643, -113....  ...  [[-79.54861660079041, -54.74861660078932, -81....\n",
              "337  [[-40.58339920948674, -76.88339920948602, -70....  ...  [[-5.983399209488198, -2.0833992094867426, -1....\n",
              "338  [[-38.43399209486233, -39.93399209486233, -57....  ...  [[-96.04861660079041, -77.34861660078968, -81....\n",
              "\n",
              "[339 rows x 8 columns]"
            ]
          },
          "metadata": {
            "tags": []
          },
          "execution_count": 10
        }
      ]
    },
    {
      "cell_type": "code",
      "metadata": {
        "id": "FzQeqx2Af9Ad"
      },
      "source": [
        "win_loss_dff = pd.DataFrame()"
      ],
      "execution_count": null,
      "outputs": []
    },
    {
      "cell_type": "code",
      "metadata": {
        "colab": {
          "base_uri": "https://localhost:8080/"
        },
        "id": "q4FUxYhnui0S",
        "outputId": "ed79f278-671e-4441-b5aa-8deda708600a"
      },
      "source": [
        "win_loss_df.columns"
      ],
      "execution_count": null,
      "outputs": [
        {
          "output_type": "execute_result",
          "data": {
            "text/plain": [
              "Index(['r1_los1', 'r1_los2', 'r1_win1', 'r1_win2', 'r2_los1', 'r2_los2',\n",
              "       'r2_win1', 'r2_win2'],\n",
              "      dtype='object')"
            ]
          },
          "metadata": {
            "tags": []
          },
          "execution_count": 12
        }
      ]
    },
    {
      "cell_type": "code",
      "metadata": {
        "id": "BkZLm00DgFfO"
      },
      "source": [
        "win_loss_dff[\"r_los\"] = pd.concat([win_loss_df[\"r1_los1\"], win_loss_df[\"r1_los2\"],win_loss_df[\"r2_los1\"], win_loss_df[\"r2_los2\"]])\n",
        "win_loss_dff[\"r_win\"] = pd.concat([win_loss_df[\"r1_win1\"], win_loss_df[\"r1_win2\"], win_loss_df[\"r2_win1\"], win_loss_df[\"r2_win2\"]])\n",
        "# win_loss_dff[\"r2_los\"] = pd.concat([win_loss_df[\"r2_los1\"], win_loss_df[\"r2_los2\"]])\n",
        "# win_loss_dff[\"r2_win\"] = pd.concat([win_loss_df[\"r2_win1\"], win_loss_df[\"r2_win2\"]])\n",
        "\n",
        "# win_loss_dff[\"los\"] = pd.concat([win_loss_dff[\"r1_los\"],win_loss_dff[\"r2_los\"]])\n",
        "# win_loss_dff[\"win\"] = pd.concat([win_loss_dff[\"r1_win\"],win_loss_dff[\"r2_win\"]])\n",
        "\n",
        "win_loss_df = win_loss_dff.copy()"
      ],
      "execution_count": null,
      "outputs": []
    },
    {
      "cell_type": "code",
      "metadata": {
        "colab": {
          "base_uri": "https://localhost:8080/"
        },
        "id": "2wmFZ29j-FVM",
        "outputId": "33f021dd-3c03-4a13-9bb0-246f879aaf62"
      },
      "source": [
        "win_loss_dff.shape"
      ],
      "execution_count": null,
      "outputs": [
        {
          "output_type": "execute_result",
          "data": {
            "text/plain": [
              "(1356, 2)"
            ]
          },
          "metadata": {
            "tags": []
          },
          "execution_count": 14
        }
      ]
    },
    {
      "cell_type": "code",
      "metadata": {
        "id": "SFIE7o7DMrk6"
      },
      "source": [
        "import scipy.stats as stats"
      ],
      "execution_count": null,
      "outputs": []
    },
    {
      "cell_type": "code",
      "metadata": {
        "id": "FOhEu_IFL0fa"
      },
      "source": [
        "def perm_test(data1,data2,niteration):\n",
        "\n",
        "  tmp_dat1 = data1\n",
        "  tmp_dat2 = data2\n",
        "\n",
        "  tmp_dif  = tmp_dat2 - tmp_dat1\n",
        "\n",
        "  for pat in range(tmp_dat1.shape[0]):\n",
        "    tmp_dif.iloc[pat] = np.mean(tmp_dif.iloc[pat], axis=1)\n",
        "  tmp_tot  = pd.Series(np.concatenate((tmp_dat1, tmp_dat2),axis=0))\n",
        "\n",
        "  mean_df1 = np.zeros((360,1))\n",
        "\n",
        "\n",
        "  for pat in range(tmp_dat1.shape[0]):\n",
        "     mean_df1 = np.concatenate((mean_df1, np.array(tmp_dif.iloc[pat]).reshape(360,1)),axis=1 )\n",
        "\n",
        "  mean_df1 = mean_df1[:,1:]\n",
        "    \n",
        "  # mean_df1 = np.concatenate((mean_df1, np.array(ev_df.iloc[pat,1]).reshape(360,1)),axis=1 )\n",
        "  orig_t = np.zeros(360)\n",
        "\n",
        "  for reg in range(360):\n",
        "    orig_t[reg] = stats.ttest_1samp(mean_df1[reg,:],0.0)[0]\n",
        "\n",
        "  niter = niteration\n",
        "  t_dist = np.zeros((360,niter))\n",
        "\n",
        "  for ii in range(niter):\n",
        "    print(f\"Iteration: {ii}\")\n",
        "    tmp_ind = np.random.permutation(tmp_tot.shape[0])\n",
        "    tmp_ind1 = tmp_ind[:tmp_dat1.shape[0]]\n",
        "    tmp_ind2 = tmp_ind[tmp_dat1.shape[0]:]\n",
        "    dat1 = tmp_tot[tmp_ind1]\n",
        "    dat2 = tmp_tot[tmp_ind2]\n",
        "\n",
        "    dif = pd.Series(np.array(dat2) - np.array(dat1))\n",
        "\n",
        "    for pat in range(dat1.shape[0]):\n",
        "      dif.iloc[pat] = np.mean(dif.iloc[pat], axis=1)\n",
        "\n",
        "    mean_dff1 = np.zeros((360,1))\n",
        "\n",
        "\n",
        "    for pat in range(tmp_dat1.shape[0]):\n",
        "      mean_dff1 = np.concatenate((mean_dff1, np.array(dif.iloc[pat]).reshape(360,1)),axis=1 )\n",
        "\n",
        "    mean_dff1 = mean_dff1[:,1:]\n",
        "    for reg in range(360):\n",
        "      t_dist[reg,ii] = stats.ttest_1samp(mean_dff1[reg,:],0.0)[0]\n",
        "    \n",
        "  p_vals = np.zeros(360)\n",
        "  sig_p = []\n",
        "\n",
        "  for reg in range(360):\n",
        "    p_vals[reg] = np.sum(np.abs(t_dist[reg,:])> np.abs(orig_t[reg]))/niter \n",
        "    if np.sum(np.abs(t_dist[reg,:])> np.abs(orig_t[reg]))/niter <0.01:\n",
        "      print(f\"reg {reg} p-value: {np.sum(np.abs(t_dist[reg,:])> np.abs(orig_t[reg]))/niter}\")\n",
        "      sig_p.append(reg)\n",
        "    else: \n",
        "      continue\n",
        "\n",
        "  return {\"p_vals\":p_vals, \"sig_p\": sig_p}"
      ],
      "execution_count": null,
      "outputs": []
    },
    {
      "cell_type": "code",
      "metadata": {
        "id": "oGikyjLZrP_8"
      },
      "source": [
        "\n",
        "def averager(dat):\n",
        "  data = dat\n",
        "  for pat in range(data.shape[0]):\n",
        "    data.iloc[pat] = np.mean(data.iloc[pat],axis=1)\n",
        "  \n",
        "  return data\n"
      ],
      "execution_count": null,
      "outputs": []
    },
    {
      "cell_type": "code",
      "metadata": {
        "colab": {
          "base_uri": "https://localhost:8080/"
        },
        "id": "tMxU_AbAoqLG",
        "outputId": "3c6c5cf2-915d-4d5a-f226-f13e4b0bab18"
      },
      "source": [
        "data1"
      ],
      "execution_count": null,
      "outputs": [
        {
          "output_type": "execute_result",
          "data": {
            "text/plain": [
              "0      [-32.0800790513832, 19.05000988142342, -29.315...\n",
              "1      [4.903877470355747, 21.08124110671954, 25.0643...\n",
              "2      [8.071254940711878, 31.55055632411081, 5.10467...\n",
              "3      [41.54158102766765, 21.613609683795993, 72.176...\n",
              "4      [292.0752667984198, 78.40611660079108, 14.6866...\n",
              "                             ...                        \n",
              "334    [8.8206324110668, -3.696166996046986, 14.37099...\n",
              "335    [17.156828063239526, -0.23089920948855253, 5.3...\n",
              "336    [-4.306116600790074, -32.59477272727222, -31.6...\n",
              "337    [22.87160079051255, 11.855501976283676, 22.988...\n",
              "338    [12.346383399209936, 6.832839920949027, 0.8197...\n",
              "Name: r_los, Length: 1356, dtype: object"
            ]
          },
          "metadata": {
            "tags": []
          },
          "execution_count": 22
        }
      ]
    },
    {
      "cell_type": "code",
      "metadata": {
        "colab": {
          "base_uri": "https://localhost:8080/"
        },
        "id": "iFADHZXfYCz-",
        "outputId": "43b400e0-67e5-46f8-dc62-eff4c8830353"
      },
      "source": [
        "data1 = win_loss_df[\"r_los\"].copy()\n",
        "data2 = win_loss_df[\"r_win\"].copy()\n",
        "niteration = 20\n",
        "\n",
        "kk = perm_test(data1, data2, niteration)"
      ],
      "execution_count": null,
      "outputs": [
        {
          "output_type": "stream",
          "text": [
            "Iteration: 0\n",
            "Iteration: 1\n",
            "Iteration: 2\n",
            "Iteration: 3\n",
            "Iteration: 4\n",
            "Iteration: 5\n",
            "Iteration: 6\n",
            "Iteration: 7\n",
            "Iteration: 8\n",
            "Iteration: 9\n",
            "Iteration: 10\n",
            "Iteration: 11\n",
            "Iteration: 12\n",
            "Iteration: 13\n",
            "Iteration: 14\n",
            "Iteration: 15\n",
            "Iteration: 16\n",
            "Iteration: 17\n",
            "Iteration: 18\n",
            "Iteration: 19\n",
            "reg 0 p-value: 0.0\n",
            "reg 1 p-value: 0.0\n",
            "reg 5 p-value: 0.0\n",
            "reg 6 p-value: 0.0\n",
            "reg 8 p-value: 0.0\n",
            "reg 9 p-value: 0.0\n",
            "reg 10 p-value: 0.0\n",
            "reg 11 p-value: 0.0\n",
            "reg 14 p-value: 0.0\n",
            "reg 15 p-value: 0.0\n",
            "reg 16 p-value: 0.0\n",
            "reg 17 p-value: 0.0\n",
            "reg 18 p-value: 0.0\n",
            "reg 19 p-value: 0.0\n",
            "reg 20 p-value: 0.0\n",
            "reg 21 p-value: 0.0\n",
            "reg 22 p-value: 0.0\n",
            "reg 23 p-value: 0.0\n",
            "reg 24 p-value: 0.0\n",
            "reg 25 p-value: 0.0\n",
            "reg 26 p-value: 0.0\n",
            "reg 27 p-value: 0.0\n",
            "reg 28 p-value: 0.0\n",
            "reg 30 p-value: 0.0\n",
            "reg 31 p-value: 0.0\n",
            "reg 32 p-value: 0.0\n",
            "reg 35 p-value: 0.0\n",
            "reg 36 p-value: 0.0\n",
            "reg 37 p-value: 0.0\n",
            "reg 39 p-value: 0.0\n",
            "reg 40 p-value: 0.0\n",
            "reg 42 p-value: 0.0\n",
            "reg 43 p-value: 0.0\n",
            "reg 44 p-value: 0.0\n",
            "reg 45 p-value: 0.0\n",
            "reg 46 p-value: 0.0\n",
            "reg 47 p-value: 0.0\n",
            "reg 48 p-value: 0.0\n",
            "reg 49 p-value: 0.0\n",
            "reg 51 p-value: 0.0\n",
            "reg 52 p-value: 0.0\n",
            "reg 53 p-value: 0.0\n",
            "reg 54 p-value: 0.0\n",
            "reg 55 p-value: 0.0\n",
            "reg 56 p-value: 0.0\n",
            "reg 57 p-value: 0.0\n",
            "reg 58 p-value: 0.0\n",
            "reg 59 p-value: 0.0\n",
            "reg 61 p-value: 0.0\n",
            "reg 62 p-value: 0.0\n",
            "reg 66 p-value: 0.0\n",
            "reg 67 p-value: 0.0\n",
            "reg 68 p-value: 0.0\n",
            "reg 69 p-value: 0.0\n",
            "reg 70 p-value: 0.0\n",
            "reg 72 p-value: 0.0\n",
            "reg 73 p-value: 0.0\n",
            "reg 75 p-value: 0.0\n",
            "reg 76 p-value: 0.0\n",
            "reg 77 p-value: 0.0\n",
            "reg 78 p-value: 0.0\n",
            "reg 79 p-value: 0.0\n",
            "reg 80 p-value: 0.0\n",
            "reg 81 p-value: 0.0\n",
            "reg 82 p-value: 0.0\n",
            "reg 83 p-value: 0.0\n",
            "reg 84 p-value: 0.0\n",
            "reg 85 p-value: 0.0\n",
            "reg 86 p-value: 0.0\n",
            "reg 88 p-value: 0.0\n",
            "reg 89 p-value: 0.0\n",
            "reg 91 p-value: 0.0\n",
            "reg 94 p-value: 0.0\n",
            "reg 95 p-value: 0.0\n",
            "reg 96 p-value: 0.0\n",
            "reg 97 p-value: 0.0\n",
            "reg 99 p-value: 0.0\n",
            "reg 101 p-value: 0.0\n",
            "reg 102 p-value: 0.0\n",
            "reg 105 p-value: 0.0\n",
            "reg 106 p-value: 0.0\n",
            "reg 107 p-value: 0.0\n",
            "reg 108 p-value: 0.0\n",
            "reg 112 p-value: 0.0\n",
            "reg 114 p-value: 0.0\n",
            "reg 115 p-value: 0.0\n",
            "reg 116 p-value: 0.0\n",
            "reg 117 p-value: 0.0\n",
            "reg 121 p-value: 0.0\n",
            "reg 123 p-value: 0.0\n",
            "reg 124 p-value: 0.0\n",
            "reg 125 p-value: 0.0\n",
            "reg 127 p-value: 0.0\n",
            "reg 128 p-value: 0.0\n",
            "reg 130 p-value: 0.0\n",
            "reg 136 p-value: 0.0\n",
            "reg 137 p-value: 0.0\n",
            "reg 139 p-value: 0.0\n",
            "reg 140 p-value: 0.0\n",
            "reg 141 p-value: 0.0\n",
            "reg 142 p-value: 0.0\n",
            "reg 143 p-value: 0.0\n",
            "reg 144 p-value: 0.0\n",
            "reg 145 p-value: 0.0\n",
            "reg 146 p-value: 0.0\n",
            "reg 147 p-value: 0.0\n",
            "reg 148 p-value: 0.0\n",
            "reg 149 p-value: 0.0\n",
            "reg 150 p-value: 0.0\n",
            "reg 152 p-value: 0.0\n",
            "reg 153 p-value: 0.0\n",
            "reg 155 p-value: 0.0\n",
            "reg 156 p-value: 0.0\n",
            "reg 157 p-value: 0.0\n",
            "reg 158 p-value: 0.0\n",
            "reg 162 p-value: 0.0\n",
            "reg 165 p-value: 0.0\n",
            "reg 168 p-value: 0.0\n",
            "reg 170 p-value: 0.0\n",
            "reg 171 p-value: 0.0\n",
            "reg 172 p-value: 0.0\n",
            "reg 173 p-value: 0.0\n",
            "reg 174 p-value: 0.0\n",
            "reg 178 p-value: 0.0\n",
            "reg 180 p-value: 0.0\n",
            "reg 181 p-value: 0.0\n",
            "reg 183 p-value: 0.0\n",
            "reg 184 p-value: 0.0\n",
            "reg 186 p-value: 0.0\n",
            "reg 187 p-value: 0.0\n",
            "reg 188 p-value: 0.0\n",
            "reg 189 p-value: 0.0\n",
            "reg 190 p-value: 0.0\n",
            "reg 191 p-value: 0.0\n",
            "reg 194 p-value: 0.0\n",
            "reg 195 p-value: 0.0\n",
            "reg 196 p-value: 0.0\n",
            "reg 197 p-value: 0.0\n",
            "reg 198 p-value: 0.0\n",
            "reg 199 p-value: 0.0\n",
            "reg 200 p-value: 0.0\n",
            "reg 202 p-value: 0.0\n",
            "reg 203 p-value: 0.0\n",
            "reg 205 p-value: 0.0\n",
            "reg 206 p-value: 0.0\n",
            "reg 207 p-value: 0.0\n",
            "reg 208 p-value: 0.0\n",
            "reg 210 p-value: 0.0\n",
            "reg 211 p-value: 0.0\n",
            "reg 212 p-value: 0.0\n",
            "reg 215 p-value: 0.0\n",
            "reg 217 p-value: 0.0\n",
            "reg 218 p-value: 0.0\n",
            "reg 219 p-value: 0.0\n",
            "reg 220 p-value: 0.0\n",
            "reg 221 p-value: 0.0\n",
            "reg 222 p-value: 0.0\n",
            "reg 223 p-value: 0.0\n",
            "reg 224 p-value: 0.0\n",
            "reg 225 p-value: 0.0\n",
            "reg 226 p-value: 0.0\n",
            "reg 227 p-value: 0.0\n",
            "reg 228 p-value: 0.0\n",
            "reg 229 p-value: 0.0\n",
            "reg 230 p-value: 0.0\n",
            "reg 231 p-value: 0.0\n",
            "reg 233 p-value: 0.0\n",
            "reg 234 p-value: 0.0\n",
            "reg 235 p-value: 0.0\n",
            "reg 236 p-value: 0.0\n",
            "reg 238 p-value: 0.0\n",
            "reg 239 p-value: 0.0\n",
            "reg 241 p-value: 0.0\n",
            "reg 242 p-value: 0.0\n",
            "reg 246 p-value: 0.0\n",
            "reg 247 p-value: 0.0\n",
            "reg 248 p-value: 0.0\n",
            "reg 249 p-value: 0.0\n",
            "reg 250 p-value: 0.0\n",
            "reg 252 p-value: 0.0\n",
            "reg 253 p-value: 0.0\n",
            "reg 254 p-value: 0.0\n",
            "reg 255 p-value: 0.0\n",
            "reg 256 p-value: 0.0\n",
            "reg 257 p-value: 0.0\n",
            "reg 258 p-value: 0.0\n",
            "reg 259 p-value: 0.0\n",
            "reg 260 p-value: 0.0\n",
            "reg 261 p-value: 0.0\n",
            "reg 262 p-value: 0.0\n",
            "reg 263 p-value: 0.0\n",
            "reg 264 p-value: 0.0\n",
            "reg 265 p-value: 0.0\n",
            "reg 266 p-value: 0.0\n",
            "reg 268 p-value: 0.0\n",
            "reg 269 p-value: 0.0\n",
            "reg 270 p-value: 0.0\n",
            "reg 274 p-value: 0.0\n",
            "reg 275 p-value: 0.0\n",
            "reg 276 p-value: 0.0\n",
            "reg 277 p-value: 0.0\n",
            "reg 280 p-value: 0.0\n",
            "reg 285 p-value: 0.0\n",
            "reg 286 p-value: 0.0\n",
            "reg 287 p-value: 0.0\n",
            "reg 288 p-value: 0.0\n",
            "reg 290 p-value: 0.0\n",
            "reg 292 p-value: 0.0\n",
            "reg 294 p-value: 0.0\n",
            "reg 295 p-value: 0.0\n",
            "reg 296 p-value: 0.0\n",
            "reg 297 p-value: 0.0\n",
            "reg 298 p-value: 0.0\n",
            "reg 301 p-value: 0.0\n",
            "reg 303 p-value: 0.0\n",
            "reg 304 p-value: 0.0\n",
            "reg 305 p-value: 0.0\n",
            "reg 308 p-value: 0.0\n",
            "reg 310 p-value: 0.0\n",
            "reg 316 p-value: 0.0\n",
            "reg 317 p-value: 0.0\n",
            "reg 319 p-value: 0.0\n",
            "reg 320 p-value: 0.0\n",
            "reg 322 p-value: 0.0\n",
            "reg 323 p-value: 0.0\n",
            "reg 324 p-value: 0.0\n",
            "reg 325 p-value: 0.0\n",
            "reg 326 p-value: 0.0\n",
            "reg 327 p-value: 0.0\n",
            "reg 328 p-value: 0.0\n",
            "reg 329 p-value: 0.0\n",
            "reg 332 p-value: 0.0\n",
            "reg 333 p-value: 0.0\n",
            "reg 335 p-value: 0.0\n",
            "reg 336 p-value: 0.0\n",
            "reg 337 p-value: 0.0\n",
            "reg 338 p-value: 0.0\n",
            "reg 339 p-value: 0.0\n",
            "reg 342 p-value: 0.0\n",
            "reg 348 p-value: 0.0\n",
            "reg 349 p-value: 0.0\n",
            "reg 350 p-value: 0.0\n",
            "reg 351 p-value: 0.0\n",
            "reg 352 p-value: 0.0\n",
            "reg 353 p-value: 0.0\n",
            "reg 354 p-value: 0.0\n",
            "reg 355 p-value: 0.0\n",
            "reg 358 p-value: 0.0\n",
            "reg 359 p-value: 0.0\n"
          ],
          "name": "stdout"
        }
      ]
    },
    {
      "cell_type": "code",
      "metadata": {
        "id": "1F7J4S0qtJIA"
      },
      "source": [
        "kk = averager(data1)"
      ],
      "execution_count": null,
      "outputs": []
    },
    {
      "cell_type": "code",
      "metadata": {
        "id": "ewHV8fDuwqgP"
      },
      "source": [
        "len(kk[\"sig_p\"])"
      ],
      "execution_count": null,
      "outputs": []
    },
    {
      "cell_type": "code",
      "metadata": {
        "id": "dYDG1BngsA_u"
      },
      "source": [
        "los_mean = averager(data1)\n",
        "win_mean = averager(data2)"
      ],
      "execution_count": null,
      "outputs": []
    },
    {
      "cell_type": "code",
      "metadata": {
        "id": "n5KOY3sRwawH"
      },
      "source": [
        "from sklearn.preprocessing import StandardScaler\n",
        "from sklearn.linear_model import LogisticRegression"
      ],
      "execution_count": null,
      "outputs": []
    },
    {
      "cell_type": "code",
      "metadata": {
        "id": "_v9W84cixQMc"
      },
      "source": [
        "# extract values => scale data\n",
        "los_vals = los_mean.values\n",
        "los_mat = np.zeros((los_vals.shape[0], 360))\n",
        "for ii in range(los_vals.shape[0]):\n",
        "  los_mat[ii,:] = los_vals[ii]\n",
        "x_los = los_mat[:,kk[\"sig_p\"]]"
      ],
      "execution_count": null,
      "outputs": []
    },
    {
      "cell_type": "code",
      "metadata": {
        "id": "pHnzAUoOxXCF"
      },
      "source": [
        "win_vals = win_mean.values\n",
        "win_mat = np.zeros((win_vals.shape[0], 360))\n",
        "for ii in range(win_vals.shape[0]):\n",
        "  win_mat[ii,:] = win_vals[ii]\n",
        "\n",
        "x_win = win_mat[:,kk[\"sig_p\"]]"
      ],
      "execution_count": null,
      "outputs": []
    },
    {
      "cell_type": "code",
      "metadata": {
        "id": "g0pqhcmd0k4J"
      },
      "source": [
        "y = np.concatenate((np.zeros(x_los.shape[0]), np.ones(x_win.shape[0]))) # class0: loss class1: win"
      ],
      "execution_count": null,
      "outputs": []
    },
    {
      "cell_type": "code",
      "metadata": {
        "id": "ANhdpvyO1SAC"
      },
      "source": [
        "x = np.concatenate((x_los, x_win))"
      ],
      "execution_count": null,
      "outputs": []
    },
    {
      "cell_type": "code",
      "metadata": {
        "id": "4sxbHANj1xp0"
      },
      "source": [
        "np.random.permutation(x.shape[0])"
      ],
      "execution_count": null,
      "outputs": []
    },
    {
      "cell_type": "code",
      "metadata": {
        "id": "3N6Fn2a81QLt"
      },
      "source": [
        "# Shuffle\n",
        "ind = np.random.permutation(x.shape[0])\n",
        "x = x[ind,:]\n",
        "y = y[ind]"
      ],
      "execution_count": null,
      "outputs": []
    },
    {
      "cell_type": "code",
      "metadata": {
        "id": "jLPy6mjG1mZD"
      },
      "source": [
        "# Scale\n",
        "sclr = StandardScaler()\n",
        "x_scl = sclr.fit_transform(x)"
      ],
      "execution_count": null,
      "outputs": []
    },
    {
      "cell_type": "code",
      "metadata": {
        "id": "KLZo1TC-1_Rv"
      },
      "source": [
        "predictr = LogisticRegression(penalty=\"elasticnet\", solver='saga', max_iter=10000,l1_ratio=0.5)"
      ],
      "execution_count": null,
      "outputs": []
    },
    {
      "cell_type": "code",
      "metadata": {
        "id": "Rb17fZd-22uN"
      },
      "source": [
        "predictr.fit(x_scl,y)"
      ],
      "execution_count": null,
      "outputs": []
    },
    {
      "cell_type": "code",
      "metadata": {
        "id": "3wEkUBA03UcA"
      },
      "source": [
        "from sklearn.metrics import classification_report, plot_roc_curve"
      ],
      "execution_count": null,
      "outputs": []
    },
    {
      "cell_type": "code",
      "metadata": {
        "id": "oK1FME-c3Oa_"
      },
      "source": [
        "y_pred = predictr.predict(x_scl)"
      ],
      "execution_count": null,
      "outputs": []
    },
    {
      "cell_type": "code",
      "metadata": {
        "id": "wyD2h-w63i8R"
      },
      "source": [
        "report = classification_report(y, y_pred, output_dict=True)\n",
        "report = pandas.DataFrame(report)"
      ],
      "execution_count": null,
      "outputs": []
    },
    {
      "cell_type": "code",
      "metadata": {
        "id": "2PXRg_i93pUw"
      },
      "source": [
        " plt.figure(figsize=(10,5))\n",
        " plot_roc_curve(predictr, x_scl,y)\n",
        " plt.plot([0,1],[0,1], 'k--')"
      ],
      "execution_count": null,
      "outputs": []
    },
    {
      "cell_type": "code",
      "metadata": {
        "id": "5HSfUgWj4326"
      },
      "source": [
        "from sklearn.model_selection import cross_val_predict,cross_validate"
      ],
      "execution_count": null,
      "outputs": []
    },
    {
      "cell_type": "code",
      "metadata": {
        "id": "xhRVwlTj9NG_"
      },
      "source": [
        "!pip install  scikit-plot"
      ],
      "execution_count": null,
      "outputs": []
    },
    {
      "cell_type": "code",
      "metadata": {
        "id": "ZCo6efNK9E6-"
      },
      "source": [
        "import  scikitplot as sklp"
      ],
      "execution_count": null,
      "outputs": []
    },
    {
      "cell_type": "code",
      "metadata": {
        "id": "Mp0bAHR-4KLX"
      },
      "source": [
        "# SVM\n",
        "\n",
        "from sklearn.svm import SVC"
      ],
      "execution_count": null,
      "outputs": []
    },
    {
      "cell_type": "code",
      "metadata": {
        "id": "kSFhihL14R1K"
      },
      "source": [
        "svm_pred = SVC(probability=True)"
      ],
      "execution_count": null,
      "outputs": []
    },
    {
      "cell_type": "code",
      "metadata": {
        "id": "_CAehEil4aeF"
      },
      "source": [
        "svm_pred.fit(x_scl,y)"
      ],
      "execution_count": null,
      "outputs": []
    },
    {
      "cell_type": "code",
      "metadata": {
        "id": "aY09cn274fx3"
      },
      "source": [
        "ysvm_pred = svm_pred.predict(x_scl)"
      ],
      "execution_count": null,
      "outputs": []
    },
    {
      "cell_type": "code",
      "metadata": {
        "id": "msc3YJ574l9J"
      },
      "source": [
        "print(classification_report(y,ysvm_pred))"
      ],
      "execution_count": null,
      "outputs": []
    },
    {
      "cell_type": "code",
      "metadata": {
        "id": "hNm3Pox74v9V"
      },
      "source": [
        "scores = cross_validate(svm_pred,x_scl,y,cv=10,scoring='roc_auc')"
      ],
      "execution_count": null,
      "outputs": []
    },
    {
      "cell_type": "code",
      "metadata": {
        "id": "dzvTIF3ReR8C"
      },
      "source": [
        "scores"
      ],
      "execution_count": null,
      "outputs": []
    },
    {
      "cell_type": "code",
      "metadata": {
        "id": "zPyY_zI-ezQv"
      },
      "source": [
        "ycv_pred = cross_val_predict(svm_pred,x_scl,y,cv=10, method='predict_proba') # predictions from cross validation"
      ],
      "execution_count": null,
      "outputs": []
    },
    {
      "cell_type": "code",
      "metadata": {
        "id": "fWfrqbQIedLG"
      },
      "source": [
        "# plor roc from cross validated model\n",
        "sklp.metrics.plot_roc_curve(y,ycv_pred)"
      ],
      "execution_count": null,
      "outputs": []
    },
    {
      "cell_type": "code",
      "metadata": {
        "id": "NyAzoVVK5mfX"
      },
      "source": [
        "def ev_minus(dat1,dat2):\n",
        "  return dat1-dat2\n",
        "ev_df = pd.DataFrame()\n",
        "ev_df[\"r1_lw1\"] = ev_minus(win_loss_df[\"r1_los1\"], win_loss_df[\"r1_win1\"])\n",
        "ev_df[\"r1_lw2\"] = ev_minus(win_loss_df[\"r1_los2\"], win_loss_df[\"r1_win2\"])\n",
        "ev_df[\"r2_lw1\"] = ev_minus(win_loss_df[\"r2_los1\"], win_loss_df[\"r2_win1\"])\n",
        "ev_df[\"r2_lw2\"] = ev_minus(win_loss_df[\"r2_los2\"], win_loss_df[\"r2_win2\"])\n",
        "ev_df"
      ],
      "execution_count": null,
      "outputs": []
    },
    {
      "cell_type": "code",
      "metadata": {
        "id": "sYBxWgzR_02d"
      },
      "source": [
        "for pat in range(339):\n",
        "  for col in range(4):\n",
        "    ev_df.iloc[pat,col] = np.mean(ev_df.iloc[pat,col],axis=1)"
      ],
      "execution_count": null,
      "outputs": []
    },
    {
      "cell_type": "code",
      "metadata": {
        "id": "37ridwynBNja"
      },
      "source": [
        "ev_df"
      ],
      "execution_count": null,
      "outputs": []
    },
    {
      "cell_type": "code",
      "metadata": {
        "id": "FFM2M8aq9Uln"
      },
      "source": [
        "import scipy.stats as stats"
      ],
      "execution_count": null,
      "outputs": []
    },
    {
      "cell_type": "code",
      "metadata": {
        "id": "zpJ5jz8H-fjT"
      },
      "source": [
        "mean_df1 = np.zeros((360,1))\n",
        "mean_df2 = np.zeros((360,1))\n",
        "mean_df3 = np.zeros((360,1))\n",
        "mean_df4 = np.zeros((360,1))\n",
        "mean_dic = {\"df1\":mean_df1, \"df2\": mean_df2, \"df3\": mean_df3, \"df4\": mean_df4}\n",
        "\n",
        "for pat in range(339):\n",
        "  for ii in range(1,5):\n",
        "    tmp_nam = \"df\"+ str(ii) \n",
        "    mean_dic[tmp_nam] = np.concatenate((mean_dic[tmp_nam], np.array(ev_df.iloc[pat,1]).reshape(360,1)),axis=1 )\n",
        "    \n",
        "  # mean_df1 = np.concatenate((mean_df1, np.array(ev_df.iloc[pat,1]).reshape(360,1)),axis=1 )\n",
        "for ii in range(1,5):\n",
        "  tmp_nam = \"df\"+ str(ii)\n",
        "  mean_dic[tmp_nam] = mean_dic[tmp_nam][:,1:]\n",
        "    "
      ],
      "execution_count": null,
      "outputs": []
    },
    {
      "cell_type": "code",
      "metadata": {
        "id": "t9UGsMXYDZwI"
      },
      "source": [
        "tmp_dat = mean_dic[\"df1\"]\n",
        "\n",
        "for reg in range(360):\n",
        "  pprint.pprint(f\"reg {reg} P: {stats.ttest_1samp(tmp_dat[reg,:],0.0)[1]}\")"
      ],
      "execution_count": null,
      "outputs": []
    },
    {
      "cell_type": "code",
      "metadata": {
        "id": "vtp2uXpmFjw_"
      },
      "source": [
        "tmp_dat = mean_dic[\"df1\"]\n",
        "\n",
        "for reg in range(360):\n",
        "  if stats.ttest_1samp(tmp_dat[reg,:],0.0)[1]<0.01 :\n",
        "    pprint.pprint(f\"reg {reg} P: {stats.ttest_1samp(tmp_dat[reg,:],0.0)[1]}\")"
      ],
      "execution_count": null,
      "outputs": []
    },
    {
      "cell_type": "code",
      "metadata": {
        "id": "sBbYC3-xPYGl"
      },
      "source": [
        "# having features (mean of brain region activity values) and labels (win/loss) for each experiment \n",
        "# now we can apply a classifier upon the data for regions with significant difference in levels of activity\n",
        "\n",
        "mean_win_loss = pd.DataFrame()\n",
        "\n",
        "\n",
        "mean_win_loss['win'] = pd.concat([win_loss_df['r1_win1'], win_loss_df['r1_win2'], win_loss_df['r2_win1'], win_loss_df['r2_win2']], ignore_index=True)\n",
        "mean_win_loss['loss'] = pd.concat([win_loss_df['r1_los1'], win_loss_df['r1_los2'], win_loss_df['r2_los1'], win_loss_df['r2_los2']], ignore_index=True)\n",
        "\n",
        "\n",
        "mean_win_loss['win'] =  [np.mean(x,axis = 1) for x in mean_win_loss['win'] ]\n",
        "mean_win_loss['loss'] =  [np.mean(x,axis = 1) for x in mean_win_loss['loss'] ]\n",
        "mean_win_loss"
      ],
      "execution_count": null,
      "outputs": []
    },
    {
      "cell_type": "code",
      "metadata": {
        "id": "ZI_bzhNFZ4UT"
      },
      "source": [
        "win_mean_activity = mean_win_loss['win'][:].mean()\n",
        "loss_mean_activity = mean_win_loss['loss'][:].mean()"
      ],
      "execution_count": null,
      "outputs": []
    },
    {
      "cell_type": "code",
      "metadata": {
        "id": "xSRqna48dQls"
      },
      "source": [
        "win_var = [np.var(x) for x in mean_win_loss['win']]\n",
        "loss_var = [np.var(x) for x in mean_win_loss['win']]"
      ],
      "execution_count": null,
      "outputs": []
    },
    {
      "cell_type": "code",
      "metadata": {
        "id": "dDhOhIZ-aL8q"
      },
      "source": [
        "print(\"mean loss var: \", np.var(loss_mean_activity), \"mean win var: \",np.var(win_mean_activity)) \n",
        "\n",
        "fig, axs = plt.subplots(2,sharex=True, sharey=True)\n",
        "\n",
        "axs[0].plot(loss_mean_activity,label='loss')\n",
        "axs[1].plot(win_mean_activity,label='win')\n",
        "axs[0].title.set_text('Loss mean activity')\n",
        "axs[1].title.set_text('Win mean activity')\n",
        "\n",
        "\n",
        "plt.savefig(\"win_loss_mean.png\",dpi=400)"
      ],
      "execution_count": null,
      "outputs": []
    },
    {
      "cell_type": "code",
      "metadata": {
        "id": "r53Vi-ZDhnMo"
      },
      "source": [
        "win_loss_diff = loss_mean_activity -  win_mean_activity\n",
        "\n",
        "!pip install nilearn --quiet\n",
        "from nilearn import plotting, datasets\n",
        "\n",
        "# NMA provides an atlas \n",
        "fname = f\"./atlas.npz\"\n",
        "if not os.path.exists(fname):\n",
        "  !wget -qO $fname https://osf.io/j5kuc/download\n",
        "with np.load(fname) as dobj:\n",
        "  atlas = dict(**dobj)\n",
        "\n",
        "\n",
        "fsaverage = datasets.fetch_surf_fsaverage()\n",
        "surf_contrast = win_loss_diff[atlas[\"labels_L\"]]\n",
        "plotting.view_surf(fsaverage['infl_left'],\n",
        "                   surf_contrast,\n",
        "                   vmax=20)"
      ],
      "execution_count": null,
      "outputs": []
    }
  ]
}